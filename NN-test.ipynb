{
 "cells": [
  {
   "cell_type": "code",
   "execution_count": 1,
   "metadata": {},
   "outputs": [
    {
     "name": "stdout",
     "output_type": "stream",
     "text": [
      "['/home/juanpablo/Maestría-PUCP/Temas Avanzados de Física Computacional', '/home/juanpablo/yes/lib/python37.zip', '/home/juanpablo/yes/lib/python3.7', '/home/juanpablo/yes/lib/python3.7/lib-dynload', '', '/home/juanpablo/.local/lib/python3.7/site-packages', '/home/juanpablo/yes/lib/python3.7/site-packages', '/home/juanpablo/yes/lib/python3.7/site-packages/sami2py-0.2.2-py3.7.egg', '/home/juanpablo/yes/lib/python3.7/site-packages/netCDF4-1.5.4-py3.7-linux-x86_64.egg', '/home/juanpablo/yes/lib/python3.7/site-packages/cftime-1.2.1-py3.7-linux-x86_64.egg', '/home/juanpablo/yes/lib/python3.7/site-packages/pyIGRF-0.3.3-py3.7.egg', '/home/juanpablo/yes/lib/python3.7/site-packages/IPython/extensions', '/home/juanpablo/.ipython']\n"
     ]
    }
   ],
   "source": [
    "\n",
    "\n",
    "from matplotlib.font_manager import FontProperties\n",
    "from matplotlib import pyplot as plt\n",
    "from mpl_toolkits.mplot3d import Axes3D\n",
    "from matplotlib import cm\n",
    "from matplotlib.ticker import LinearLocator, FormatStrFormatter\n",
    "\n",
    "import numpy as np\n",
    "from IPython import display\n",
    "import matplotlib.gridspec as gridspec\n",
    "import sys\n",
    "\n",
    "import math as math\n",
    "import datetime\n",
    "from datetime import timedelta\n",
    "import os\n",
    "\n",
    "print (sys.path)\n",
    "import pandas as pd\n",
    "#import seaborn as sns\n",
    "import matplotlib.dates as dates\n",
    "from matplotlib.dates import MonthLocator, WeekdayLocator, DateFormatter, YearLocator\n",
    "\n"
   ]
  },
  {
   "cell_type": "code",
   "execution_count": 2,
   "metadata": {},
   "outputs": [
    {
     "data": {
      "text/plain": [
       "'\\nx=dataset[:,0:5]\\ny=dataset[:,5]\\ny=np.reshape(y, (-1,1))\\nscaler_x = MinMaxScaler()\\nscaler_y = MinMaxScaler()\\nprint(scaler_x.fit(x))\\nxscale=scaler_x.transform(x)\\nprint(scaler_y.fit(y))\\nyscale=scaler_y.transform(y)\\n'"
      ]
     },
     "execution_count": 2,
     "metadata": {},
     "output_type": "execute_result"
    }
   ],
   "source": [
    "#Variables\n",
    "#dataset=np.loadtxt(\"cars.csv\", delimiter=\",\")\n",
    "filename = \"cars.csv\"\n",
    "dataset = pd.read_csv(filename,header=0,\n",
    "                     #,skiprows=2,\n",
    "                 #names=['DD','MM','YYYY','hh','mm','D(deg)','H(nT)','Z(nT)','I(deg)','F(nT)']\n",
    "                    )\n",
    "x=dataset[]\n",
    "'''\n",
    "x=dataset[:,0:5]\n",
    "y=dataset[:,5]\n",
    "y=np.reshape(y, (-1,1))\n",
    "scaler_x = MinMaxScaler()\n",
    "scaler_y = MinMaxScaler()\n",
    "print(scaler_x.fit(x))\n",
    "xscale=scaler_x.transform(x)\n",
    "print(scaler_y.fit(y))\n",
    "yscale=scaler_y.transform(y)\n",
    "'''"
   ]
  },
  {
   "cell_type": "code",
   "execution_count": 4,
   "metadata": {},
   "outputs": [
    {
     "data": {
      "text/plain": [
       "(963, 6)"
      ]
     },
     "execution_count": 4,
     "metadata": {},
     "output_type": "execute_result"
    }
   ],
   "source": [
    "dataset.shape"
   ]
  },
  {
   "cell_type": "code",
   "execution_count": 7,
   "metadata": {},
   "outputs": [
    {
     "name": "stdout",
     "output_type": "stream",
     "text": [
      "[0, 1, 2, 3, 4, 5, 6, 7, 8, 9, 10, 11, 12, 13, 14, 15, 16, 17, 18, 19, 20, 21, 22, 23, 24, 25, 26, 27, 28, 29, 30, 31, 32, 33, 34, 35, 36, 37, 38, 39, 40, 41, 42, 43, 44, 45, 46, 47, 48, 49, 50, 51, 52, 53, 54, 55, 56, 57, 58, 59, 60, 61, 62, 63, 64, 65, 66, 67, 68, 69, 70, 71, 72, 73, 74, 75, 76, 77, 78, 79, 80, 81, 82, 83, 84, 85, 86, 87, 88, 89, 90, 91, 92, 93, 94, 95, 96, 97, 98, 99, 100, 101, 102, 103, 104, 105, 106, 107, 108, 109, 110, 111, 112, 113, 114, 115, 116, 117, 118, 119, 120, 121, 122, 123, 124, 125, 126, 127, 128, 129, 130, 131, 132, 133, 134, 135, 136, 137, 138, 139, 140, 141, 142, 143, 144, 145, 146, 147, 148, 149, 150, 151, 152, 153, 154, 155, 156, 157, 158, 159, 160, 161, 162, 163, 164, 165, 166, 167, 168, 169, 170, 171, 172, 173, 174, 175, 176, 177, 178, 179, 180, 181, 182, 183, 184, 185, 186, 187, 188, 189, 190, 191, 192, 193, 194, 195, 196, 197, 198, 199, 200, 201, 202, 203, 204, 205, 206, 207, 208, 209, 210, 211, 212, 213, 214, 215, 216, 217, 218, 219, 220, 221, 222, 223, 224, 225, 226, 227, 228, 229, 230, 231, 232, 233, 234, 235, 236, 237, 238, 239, 240, 241, 242, 243, 244, 245, 246, 247, 248, 249, 250, 251, 252, 253, 254, 255, 256, 257, 258, 259, 260, 261, 262, 263, 264, 265, 266, 267, 268, 269, 270, 271, 272, 273, 274, 275, 276, 277, 278, 279, 280, 281, 282, 283, 284, 285, 286, 287, 288, 289, 290, 291, 292, 293, 294, 295, 296, 297, 298, 299, 300, 301, 302, 303, 304, 305, 306, 307, 308, 309, 310, 311, 312, 313, 314, 315, 316, 317, 318, 319, 320, 321, 322, 323, 324, 325, 326, 327, 328, 329, 330, 331, 332, 333, 334, 335, 336, 337, 338, 339, 340, 341, 342, 343, 344, 345, 346, 347, 348, 349, 350, 351, 352, 353, 354, 355, 356, 357, 358, 359, 360, 361, 362, 363, 364, 365, 366, 367, 368, 369, 370, 371, 372, 373, 374, 375, 376, 377, 378, 379, 380, 381, 382, 383, 384, 385, 386, 387, 388, 389, 390, 391, 392, 393, 394, 395, 396, 397, 398, 399, 400, 401, 402, 403, 404, 405, 406, 407, 408, 409, 410, 411, 412, 413, 414, 415, 416, 417, 418, 419, 420, 421, 422, 423, 424, 425, 426, 427, 428, 429, 430, 431, 432, 433, 434, 435, 436, 437, 438, 439, 440, 441, 442, 443, 444, 445, 446, 447, 448, 449, 450, 451, 452, 453, 454, 455, 456, 457, 458, 459, 460, 461, 462, 463, 464, 465, 466, 467, 468, 469, 470, 471, 472, 473, 474, 475, 476, 477, 478, 479, 480, 481, 482, 483, 484, 485, 486, 487, 488, 489, 490, 491, 492, 493, 494, 495, 496, 497, 498, 499, 500, 501, 502, 503, 504, 505, 506, 507, 508, 509, 510, 511, 512, 513, 514, 515, 516, 517, 518, 519, 520, 521, 522, 523, 524, 525, 526, 527, 528, 529, 530, 531, 532, 533, 534, 535, 536, 537, 538, 539, 540, 541, 542, 543, 544, 545, 546, 547, 548, 549, 550, 551, 552, 553, 554, 555, 556, 557, 558, 559, 560, 561, 562, 563, 564, 565, 566, 567, 568, 569, 570, 571, 572, 573, 574, 575, 576, 577, 578, 579, 580, 581, 582, 583, 584, 585, 586, 587, 588, 589, 590, 591, 592, 593, 594, 595, 596, 597, 598, 599, 600, 601, 602, 603, 604, 605, 606, 607, 608, 609, 610, 611, 612, 613, 614, 615, 616, 617, 618, 619, 620, 621, 622, 623, 624, 625, 626, 627, 628, 629, 630, 631, 632, 633, 634, 635, 636, 637, 638, 639, 640, 641, 642, 643, 644, 645, 646, 647, 648, 649, 650, 651, 652, 653, 654, 655, 656, 657, 658, 659, 660, 661, 662, 663, 664, 665, 666, 667, 668, 669, 670, 671, 672, 673, 674, 675, 676, 677, 678, 679, 680, 681, 682, 683, 684, 685, 686, 687, 688, 689, 690, 691, 692, 693, 694, 695, 696, 697, 698, 699, 700, 701, 702, 703, 704, 705, 706, 707, 708, 709, 710, 711, 712, 713, 714, 715, 716, 717, 718, 719, 720, 721, 722, 723, 724, 725, 726, 727, 728, 729, 730, 731, 732, 733, 734, 735, 736, 737, 738, 739, 740, 741, 742, 743, 744, 745, 746, 747, 748, 749, 750, 751, 752, 753, 754, 755, 756, 757, 758, 759, 760, 761, 762, 763, 764, 765, 766, 767, 768, 769, 770, 771, 772, 773, 774, 775, 776, 777, 778, 779, 780, 781, 782, 783, 784, 785, 786, 787, 788, 789, 790, 791, 792, 793, 794, 795, 796, 797, 798, 799, 800, 801, 802, 803, 804, 805, 806, 807, 808, 809, 810, 811, 812, 813, 814, 815, 816, 817, 818, 819, 820, 821, 822, 823, 824, 825, 826, 827, 828, 829, 830, 831, 832, 833, 834, 835, 836, 837, 838, 839, 840, 841, 842, 843, 844, 845, 846, 847, 848, 849, 850, 851, 852, 853, 854, 855, 856, 857, 858, 859, 860, 861, 862, 863, 864, 865, 866, 867, 868, 869, 870, 871, 872, 873, 874, 875, 876, 877, 878, 879, 880, 881, 882, 883, 884, 885, 886, 887, 888, 889, 890, 891, 892, 893, 894, 895, 896, 897, 898, 899, 900, 901, 902, 903, 904, 905, 906, 907, 908, 909, 910, 911, 912, 913, 914, 915, 916, 917, 918, 919, 920, 921, 922, 923, 924, 925, 926, 927, 928, 929, 930, 931, 932, 933, 934, 935, 936, 937, 938, 939, 940, 941, 942, 943, 944, 945, 946, 947, 948, 949, 950, 951, 952, 953, 954, 955, 956, 957, 958, 959, 960, 961, 962]\n"
     ]
    }
   ],
   "source": []
  },
  {
   "cell_type": "code",
   "execution_count": null,
   "metadata": {},
   "outputs": [],
   "source": [
    "def getDatetime(year, month, day, LT):\n",
    "    #year = 2002\n",
    "    #month = 1\n",
    "    #day = 5\n",
    "    #LT = 10.042 \n",
    "    sec = 3600*LT\n",
    "    res = LT - int(LT)\n",
    "    res_sec = res*3600 \n",
    "    mins = int(res_sec//60)\n",
    "    secs = int(res_sec%60)\n",
    "    LT = int(LT)\n",
    "    time = datetime.datetime(year,month,day,LT,mins,secs)\n",
    "    str_time = '%d-%02d-%02d %2d:%2d:%2d' % (year,month,day,LT,mins,secs)\n",
    "\n",
    "    return time, str_time"
   ]
  },
  {
   "cell_type": "code",
   "execution_count": null,
   "metadata": {},
   "outputs": [],
   "source": [
    "filename = 'jrodhdfkpf_20020101.txt'\n",
    "#current_month =  'Julio-2020'\n",
    "data_dir = 'NNDatanew-modificada'#'%s-Data' % current_month\n",
    "dir_plots = 'Plots-NN'# % current_month\n",
    "#station = 'Jicamarca'#'Jicamarca' # 'Piura', 'Huancayo','Nazca','Arequipa'\n",
    "def get_data(filename):\n",
    "    data = pd.read_csv(filename,delim_whitespace=True,header=1,\n",
    "                     #,skiprows=2,\n",
    "                 #names=['DD','MM','YYYY','hh','mm','D(deg)','H(nT)','Z(nT)','I(deg)','F(nT)']\n",
    "                    )\n",
    "    fo = open(filename, \"r\")\n",
    "    #all_content = fo.readlines(filename)\n",
    "    first_line = fo.readlines(0)[0]\n",
    "    #print(first_line)\n",
    "    day = int(first_line[4:6])\n",
    "    month = int(first_line[7:9])\n",
    "    year = int(first_line[10:14])\n",
    "    #fecha = getDatetime(year, month, day, LT)\n",
    "    fechas = []\n",
    "    str_fechas = []\n",
    "    #print(year, month, day)\n",
    "    #'''\n",
    "    for h in data['LT(h)']:\n",
    "        #print(h)\n",
    "        fecha, str_fecha = getDatetime(year,month,day,h)\n",
    "        fechas.append(fecha)\n",
    "        str_fechas.append(str_fecha)\n",
    "    data_index = pd.DatetimeIndex(fechas)\n",
    "    data[\"fechas\"] = fechas\n",
    "    #data.set_index(data_index)\n",
    "    #'''\n",
    "    return data, data_index, str_fechas#, LT, dH, drifts, Ap, F107"
   ]
  },
  {
   "cell_type": "code",
   "execution_count": null,
   "metadata": {
    "scrolled": true
   },
   "outputs": [],
   "source": [
    "#print(time)\n",
    "#data, LT, dH, drifts, Ap, F107 = get_data(data_dir+os.sep+filename)#\n",
    "data, index, str_fechas = get_data(data_dir+os.sep+filename)#\n",
    "data.set_index(index)\n",
    "#data.drop(['LT(h)'])\n",
    "#df_dH = pd.Series(dH, index=date_rng)\n",
    "#print(dH.shape)\n"
   ]
  },
  {
   "cell_type": "code",
   "execution_count": null,
   "metadata": {},
   "outputs": [],
   "source": [
    "data_list = []\n",
    "index_list = []\n",
    "str_list = []\n",
    "i = 0\n",
    "for filename in os.listdir(data_dir):\n",
    "    #print(filename)\n",
    "    data, index, str_fechas = get_data(data_dir+os.sep+filename)\n",
    "    index_list.append(index)\n",
    "    \n",
    "    str_list.append(str_fechas)\n",
    "    data_list.append(data)\n",
    "    '''\n",
    "    if i==0:\n",
    "        data, index, str_fechas = get_data(data_dir+os.sep+filename)\n",
    "        data.set_index(index)\n",
    "        index_list.append(index)\n",
    "        str_list.append(str_fechas)\n",
    "        data_list.append(data)\n",
    "    if i>0:\n",
    "        data.merge(data_past)\n",
    "        data_past = data\n",
    "    '''"
   ]
  },
  {
   "cell_type": "code",
   "execution_count": null,
   "metadata": {},
   "outputs": [],
   "source": [
    "data_all = pd.concat(data_list)\n",
    "#data_all.set_index(pd.to_datetime(str_list))\n",
    "#data.drop([\"fechas\"])\n",
    "#data_all = pd.concat(data_list)\n",
    "#data_all.set_index(str_list)\n",
    "#print(len(data_list), len(index_list))\n"
   ]
  },
  {
   "cell_type": "code",
   "execution_count": null,
   "metadata": {},
   "outputs": [],
   "source": [
    "data_all\n",
    "data_all.set_index(['fechas'],inplace=True, drop=True)\n"
   ]
  },
  {
   "cell_type": "code",
   "execution_count": null,
   "metadata": {},
   "outputs": [],
   "source": [
    "data_all"
   ]
  },
  {
   "cell_type": "code",
   "execution_count": null,
   "metadata": {},
   "outputs": [],
   "source": [
    "data_all.drop(['LT(h)'], axis=1)"
   ]
  },
  {
   "cell_type": "code",
   "execution_count": null,
   "metadata": {},
   "outputs": [],
   "source": []
  }
 ],
 "metadata": {
  "kernelspec": {
   "display_name": "Python 3",
   "language": "python",
   "name": "python3"
  },
  "language_info": {
   "codemirror_mode": {
    "name": "ipython",
    "version": 3
   },
   "file_extension": ".py",
   "mimetype": "text/x-python",
   "name": "python",
   "nbconvert_exporter": "python",
   "pygments_lexer": "ipython3",
   "version": "3.7.6"
  }
 },
 "nbformat": 4,
 "nbformat_minor": 4
}
